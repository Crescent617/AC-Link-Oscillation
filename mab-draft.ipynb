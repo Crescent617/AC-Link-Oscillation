{
 "cells": [
  {
   "cell_type": "code",
   "execution_count": 1,
   "id": "female-elite",
   "metadata": {},
   "outputs": [],
   "source": [
    "import math\n",
    "import numpy as np\n",
    "import matplotlib.pyplot as plt\n",
    "\n",
    "plt.style.use('seaborn')"
   ]
  },
  {
   "cell_type": "code",
   "execution_count": 2,
   "id": "limiting-arizona",
   "metadata": {},
   "outputs": [],
   "source": [
    "def calc_period(l, c):\n",
    "    return 2 * math.pi * (l*c)**.5\n",
    "\n",
    "def dab_power(u1, u2, L, f, D):\n",
    "    return u1*u2*D*(1-D)/(2*f*L)"
   ]
  },
  {
   "cell_type": "code",
   "execution_count": 3,
   "id": "celtic-arabic",
   "metadata": {},
   "outputs": [],
   "source": [
    "ls = 20e-6\n",
    "u = 700\n",
    "cj = 2.45e-9\n",
    "t_osci = calc_period(1.5 * ls, cj)\n",
    "f = 20e3\n",
    "T = 1 / f"
   ]
  },
  {
   "cell_type": "code",
   "execution_count": 4,
   "id": "mobile-border",
   "metadata": {},
   "outputs": [],
   "source": [
    "d = t_osci * 5.5 / (.5 * T );\n",
    "p = dab_power(u, u, ls * 2, f, d)\n",
    "r = u**2 / p"
   ]
  },
  {
   "cell_type": "code",
   "execution_count": 5,
   "id": "matched-trial",
   "metadata": {},
   "outputs": [
    {
     "data": {
      "text/plain": [
       "(0.3747539496599618, 71758.48698023005, 6.828460585226641)"
      ]
     },
     "execution_count": 5,
     "metadata": {},
     "output_type": "execute_result"
    }
   ],
   "source": [
    "d, p, r"
   ]
  },
  {
   "cell_type": "code",
   "execution_count": 6,
   "id": "medium-arbor",
   "metadata": {
    "scrolled": true
   },
   "outputs": [
    {
     "data": {
      "text/plain": [
       "0.034068540878178344"
      ]
     },
     "execution_count": 6,
     "metadata": {},
     "output_type": "execute_result"
    }
   ],
   "source": [
    "t_osci / T"
   ]
  },
  {
   "cell_type": "code",
   "execution_count": 9,
   "id": "prompt-specialist",
   "metadata": {
    "scrolled": false
   },
   "outputs": [
    {
     "data": {
      "text/plain": [
       "73500.0"
      ]
     },
     "execution_count": 9,
     "metadata": {},
     "output_type": "execute_result"
    }
   ],
   "source": [
    "dab_power(u, u, ls *2, f,  0.4)"
   ]
  },
  {
   "cell_type": "code",
   "execution_count": 10,
   "id": "formal-cover",
   "metadata": {},
   "outputs": [
    {
     "data": {
      "text/plain": [
       "1.0"
      ]
     },
     "execution_count": 10,
     "metadata": {},
     "output_type": "execute_result"
    }
   ],
   "source": [
    "100 * 0.01"
   ]
  }
 ],
 "metadata": {
  "kernelspec": {
   "display_name": "Python 3",
   "language": "python",
   "name": "python3"
  },
  "language_info": {
   "codemirror_mode": {
    "name": "ipython",
    "version": 3
   },
   "file_extension": ".py",
   "mimetype": "text/x-python",
   "name": "python",
   "nbconvert_exporter": "python",
   "pygments_lexer": "ipython3",
   "version": "3.9.1"
  }
 },
 "nbformat": 4,
 "nbformat_minor": 5
}
